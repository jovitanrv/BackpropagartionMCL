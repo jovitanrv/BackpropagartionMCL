{
  "nbformat": 4,
  "nbformat_minor": 0,
  "metadata": {
    "colab": {
      "name": "Exercise 9_Jovita Nurvania_1301174215.ipynb",
      "provenance": []
    },
    "kernelspec": {
      "name": "python3",
      "display_name": "Python 3"
    }
  },
  "cells": [
    {
      "cell_type": "markdown",
      "metadata": {
        "id": "XafTUf3_jabp",
        "colab_type": "text"
      },
      "source": [
        "API"
      ]
    },
    {
      "cell_type": "code",
      "metadata": {
        "id": "G4iDx_n1daJz",
        "colab_type": "code",
        "colab": {}
      },
      "source": [
        "import numpy as np\n",
        "\n",
        "np.random.seed(213)\n",
        "\n",
        "def affine_forward(X, W, b):\n",
        "    V = np.dot(X, W) + b\n",
        "    return V\n",
        "\n",
        "def affine_backward(dout, X, W, b):\n",
        "    dX = np.dot(dout, W.T)\n",
        "    dW = np.dot(X.T, dout)\n",
        "    db = np.sum(dout, axis=0, keepdims=True)\n",
        "    return dX,dW,db\n",
        "\n",
        "def sigmoid_forward(V):\n",
        "    act = 1/(1+np.exp(-V))\n",
        "    return act\n",
        "\n",
        "def sigmoid_backward(dout,act):\n",
        "    dact = act-act**2\n",
        "    dout = dout*dact\n",
        "    return dout"
      ],
      "execution_count": 0,
      "outputs": []
    },
    {
      "cell_type": "markdown",
      "metadata": {
        "id": "LvglyzU1jcm4",
        "colab_type": "text"
      },
      "source": [
        "Single Layer"
      ]
    },
    {
      "cell_type": "code",
      "metadata": {
        "id": "oqmxzR17er7x",
        "colab_type": "code",
        "colab": {}
      },
      "source": [
        "def train_single_layer(X, y, lr, max_epoch, weights=None, history=None):\n",
        "    n_data, n_dim = X.shape\n",
        "    _, n_out = y.shape\n",
        "\n",
        "    if weights is None:\n",
        "        W1 = 2 * np.random.random((n_dim, n_out)) - 1\n",
        "        b1 = np.zeros((1, n_out))\n",
        "        history = []\n",
        "    else:\n",
        "        W1, b1 = weights\n",
        "    \n",
        "    for ep in range(max_epoch):\n",
        "        V1 = affine_forward(X, W1, b1)\n",
        "        y_hat = sigmoid_forward(V1)\n",
        "\n",
        "        E = y-y_hat\n",
        "        mse = np.mean(E**2)\n",
        "        history.append(mse)\n",
        "\n",
        "        acc = np.sum(y == np.round(y_hat))/n_data\n",
        "        print('epoch: %i/%i, mse: %.7f, acc: %.2f' % (ep, max_epoch, mse, acc))\n",
        "\n",
        "        dV1 = sigmoid_backward(E, y_hat)\n",
        "        dX, dW1, db1 = affine_backward(dV1, X, W1, b1)\n",
        "\n",
        "        W1 = W1 + lr*dW1\n",
        "        b1 = b1 + lr*db1\n",
        "\n",
        "    weights = (W1, b1)\n",
        "\n",
        "    return history, weights"
      ],
      "execution_count": 0,
      "outputs": []
    },
    {
      "cell_type": "code",
      "metadata": {
        "id": "MVHlAbA7lRal",
        "colab_type": "code",
        "outputId": "a6c804b5-d425-45b5-e2f1-2482f89ac5ac",
        "colab": {
          "base_uri": "https://localhost:8080/",
          "height": 165
        }
      },
      "source": [
        "x = np.array([[0,0], [0,1], [1,0], [1,1]])\n",
        "y = np.array([[0, 0, 0, 1]]).T\n",
        "\n",
        "print(x)\n",
        "print(y)"
      ],
      "execution_count": 3,
      "outputs": [
        {
          "output_type": "stream",
          "text": [
            "[[0 0]\n",
            " [0 1]\n",
            " [1 0]\n",
            " [1 1]]\n",
            "[[0]\n",
            " [0]\n",
            " [0]\n",
            " [1]]\n"
          ],
          "name": "stdout"
        }
      ]
    },
    {
      "cell_type": "code",
      "metadata": {
        "id": "2NKXSZCblpTH",
        "colab_type": "code",
        "outputId": "91f1589e-753e-40db-df63-fca1c28c9891",
        "colab": {
          "base_uri": "https://localhost:8080/",
          "height": 202
        }
      },
      "source": [
        "hist1, model1 = train_single_layer(x, y, lr=1, max_epoch=10)"
      ],
      "execution_count": 4,
      "outputs": [
        {
          "output_type": "stream",
          "text": [
            "epoch: 0/10, mse: 0.2638224, acc: 0.75\n",
            "epoch: 1/10, mse: 0.2346801, acc: 0.75\n",
            "epoch: 2/10, mse: 0.2150581, acc: 0.50\n",
            "epoch: 3/10, mse: 0.2006311, acc: 0.50\n",
            "epoch: 4/10, mse: 0.1891835, acc: 0.50\n",
            "epoch: 5/10, mse: 0.1795470, acc: 0.75\n",
            "epoch: 6/10, mse: 0.1710935, acc: 0.75\n",
            "epoch: 7/10, mse: 0.1634854, acc: 0.75\n",
            "epoch: 8/10, mse: 0.1565404, acc: 0.75\n",
            "epoch: 9/10, mse: 0.1501555, acc: 0.75\n"
          ],
          "name": "stdout"
        }
      ]
    },
    {
      "cell_type": "code",
      "metadata": {
        "id": "aIydWWNAmL2k",
        "colab_type": "code",
        "outputId": "44a5a623-8e7f-4523-f40b-4ee4a0115510",
        "colab": {
          "base_uri": "https://localhost:8080/",
          "height": 350
        }
      },
      "source": [
        "import matplotlib.pyplot as plt\n",
        "%matplotlib inline\n",
        "\n",
        "def show_graph(history, size=[9,5]):\n",
        "    plt.rcParams['figure.figsize'] = size\n",
        "    plt.plot(history)\n",
        "    plt.xlabel('epoch')\n",
        "    plt.ylabel('training mse')\n",
        "    plt.title('Training MSE History')\n",
        "    plt.show()\n",
        "\n",
        "show_graph(hist1)"
      ],
      "execution_count": 5,
      "outputs": [
        {
          "output_type": "display_data",
          "data": {
            "image/png": "[encoded data removed]",
            "text/plain": [
              "<Figure size 648x360 with 1 Axes>"
            ]
          },
          "metadata": {
            "tags": []
          }
        }
      ]
    },
    {
      "cell_type": "code",
      "metadata": {
        "id": "-QQShlNams2d",
        "colab_type": "code",
        "outputId": "bae66618-1df2-419b-9c2a-b56798e64572",
        "colab": {
          "base_uri": "https://localhost:8080/",
          "height": 91
        }
      },
      "source": [
        "def test_single_layer(x, weights):\n",
        "    W1, b1 = weights\n",
        "    V1 = affine_forward(x, W1, b1)\n",
        "    y_hat = sigmoid_forward(V1)\n",
        "\n",
        "    return np.round(y_hat)\n",
        "\n",
        "y_pred = test_single_layer(x, model1)\n",
        "print(y_pred)"
      ],
      "execution_count": 6,
      "outputs": [
        {
          "output_type": "stream",
          "text": [
            "[[0.]\n",
            " [0.]\n",
            " [0.]\n",
            " [0.]]\n"
          ],
          "name": "stdout"
        }
      ]
    },
    {
      "cell_type": "code",
      "metadata": {
        "id": "R1fdCqbnnV80",
        "colab_type": "code",
        "outputId": "cd3769bc-44e8-4472-a4a8-0be4c27d00ac",
        "colab": {
          "base_uri": "https://localhost:8080/",
          "height": 202
        }
      },
      "source": [
        "hist1, model1 = train_single_layer(x, y, lr=1, max_epoch=10, weights=model1, history=hist1)"
      ],
      "execution_count": 7,
      "outputs": [
        {
          "output_type": "stream",
          "text": [
            "epoch: 0/10, mse: 0.1442652, acc: 0.75\n",
            "epoch: 1/10, mse: 0.1388212, acc: 0.75\n",
            "epoch: 2/10, mse: 0.1337823, acc: 0.75\n",
            "epoch: 3/10, mse: 0.1291113, acc: 1.00\n",
            "epoch: 4/10, mse: 0.1247738, acc: 1.00\n",
            "epoch: 5/10, mse: 0.1207381, acc: 1.00\n",
            "epoch: 6/10, mse: 0.1169752, acc: 1.00\n",
            "epoch: 7/10, mse: 0.1134591, acc: 1.00\n",
            "epoch: 8/10, mse: 0.1101662, acc: 1.00\n",
            "epoch: 9/10, mse: 0.1070754, acc: 1.00\n"
          ],
          "name": "stdout"
        }
      ]
    },
    {
      "cell_type": "code",
      "metadata": {
        "id": "qvzS1cUannQb",
        "colab_type": "code",
        "outputId": "ac401587-c8d3-413b-d52b-67401ea80708",
        "colab": {
          "base_uri": "https://localhost:8080/",
          "height": 350
        }
      },
      "source": [
        "show_graph(hist1)"
      ],
      "execution_count": 8,
      "outputs": [
        {
          "output_type": "display_data",
          "data": {
            "image/png": "[encoded data removed]",
            "text/plain": [
              "<Figure size 648x360 with 1 Axes>"
            ]
          },
          "metadata": {
            "tags": []
          }
        }
      ]
    },
    {
      "cell_type": "code",
      "metadata": {
        "id": "V61JIMD_nsAv",
        "colab_type": "code",
        "outputId": "0e538567-91b3-43e3-c3b3-75430c2f0bfc",
        "colab": {
          "base_uri": "https://localhost:8080/",
          "height": 91
        }
      },
      "source": [
        "y_pred = test_single_layer(x, model1)\n",
        "print(y_pred)"
      ],
      "execution_count": 9,
      "outputs": [
        {
          "output_type": "stream",
          "text": [
            "[[0.]\n",
            " [0.]\n",
            " [0.]\n",
            " [1.]]\n"
          ],
          "name": "stdout"
        }
      ]
    },
    {
      "cell_type": "markdown",
      "metadata": {
        "id": "3-pXtBA5nz5i",
        "colab_type": "text"
      },
      "source": [
        "Two Layer Neural Net"
      ]
    },
    {
      "cell_type": "code",
      "metadata": {
        "id": "U7KIojyEn2ZZ",
        "colab_type": "code",
        "colab": {}
      },
      "source": [
        "def train_two_layers(x, y, n_hidden, lr, max_epoch, weights=None, history=None, print_every=10):\n",
        "    n_data, n_dim = x.shape\n",
        "    _, n_out = y.shape\n",
        "\n",
        "    if weights is None:\n",
        "        W1 = 2 * np.random.random((n_dim, n_hidden)) - 1\n",
        "        b1 = np.zeros((1, n_hidden))\n",
        "        W2 = 2 * np.random.random((n_hidden, n_out)) - 1\n",
        "        b2 = np.zeros((1, n_out))\n",
        "        history = []\n",
        "    else:\n",
        "        W1, b1, W2, b2 = weights\n",
        "\n",
        "    for ep in range(max_epoch):\n",
        "\n",
        "        V1 = affine_forward(x, W1, b1)\n",
        "        A1 = sigmoid_forward(V1)\n",
        "        V2 = affine_forward(A1, W2, b2)\n",
        "        y_hat = sigmoid_forward(V2)\n",
        "\n",
        "        E = y-y_hat\n",
        "        mse = np.mean(E**2)\n",
        "        history.append(mse)\n",
        "\n",
        "        if ep % print_every == 0:\n",
        "            acc = np.sum(y == np.round(y_hat))/n_data\n",
        "            print('epoch: %i/%i, mse: %.7f, acc: %.2f' % (ep, max_epoch, mse, acc))\n",
        "\n",
        "        dV2 = sigmoid_backward(E, y_hat)\n",
        "        dA1, dW2, db2 = affine_backward(dV2, A1, W2, b2)\n",
        "        dV1 = sigmoid_backward(dA1, A1)\n",
        "        dX, dW1, db1 = affine_backward(dV1, x, W1, b1)\n",
        "\n",
        "        W1 += lr*dW1\n",
        "        b1 += lr*db1\n",
        "        W2 += lr*dW2\n",
        "        b2 += lr*db2\n",
        "\n",
        "    weights = (W1, b1, W2, b2)\n",
        "\n",
        "    return history, weights"
      ],
      "execution_count": 0,
      "outputs": []
    },
    {
      "cell_type": "code",
      "metadata": {
        "id": "pmy4_sCoqTju",
        "colab_type": "code",
        "colab": {}
      },
      "source": [
        "def test_two_layers(x, weights):\n",
        "    W1, b1, W2, b2 = weights\n",
        "\n",
        "    V1 = affine_forward(x, W1, b1)\n",
        "    A1 = sigmoid_forward(V1)\n",
        "    V2 = affine_forward(A1, W2, b2)\n",
        "    y_hat = sigmoid_forward(V2)\n",
        "\n",
        "    return np.round(y_hat)"
      ],
      "execution_count": 0,
      "outputs": []
    },
    {
      "cell_type": "code",
      "metadata": {
        "id": "AeGzlPJlql5d",
        "colab_type": "code",
        "outputId": "8426f97a-0772-4a15-fc67-c193e4c3ef44",
        "colab": {
          "base_uri": "https://localhost:8080/",
          "height": 91
        }
      },
      "source": [
        "y = np.array([[0, 1, 1, 0]]).T\n",
        "print(y)"
      ],
      "execution_count": 12,
      "outputs": [
        {
          "output_type": "stream",
          "text": [
            "[[0]\n",
            " [1]\n",
            " [1]\n",
            " [0]]\n"
          ],
          "name": "stdout"
        }
      ]
    },
    {
      "cell_type": "code",
      "metadata": {
        "id": "cdLdTeONqusJ",
        "colab_type": "code",
        "outputId": "2abe03ea-f998-4cdf-844e-daa4e619486e",
        "colab": {
          "base_uri": "https://localhost:8080/",
          "height": 202
        }
      },
      "source": [
        "hist2, model2 = train_two_layers(x, y, n_hidden=4, lr=1, max_epoch=100, print_every=10)"
      ],
      "execution_count": 13,
      "outputs": [
        {
          "output_type": "stream",
          "text": [
            "epoch: 0/100, mse: 0.2640017, acc: 0.50\n",
            "epoch: 10/100, mse: 0.2492536, acc: 0.50\n",
            "epoch: 20/100, mse: 0.2489319, acc: 0.50\n",
            "epoch: 30/100, mse: 0.2485521, acc: 0.50\n",
            "epoch: 40/100, mse: 0.2480849, acc: 0.50\n",
            "epoch: 50/100, mse: 0.2474926, acc: 0.50\n",
            "epoch: 60/100, mse: 0.2467255, acc: 0.50\n",
            "epoch: 70/100, mse: 0.2457167, acc: 0.50\n",
            "epoch: 80/100, mse: 0.2443771, acc: 0.50\n",
            "epoch: 90/100, mse: 0.2425900, acc: 0.50\n"
          ],
          "name": "stdout"
        }
      ]
    },
    {
      "cell_type": "code",
      "metadata": {
        "id": "_Mq_nkPUq_D0",
        "colab_type": "code",
        "outputId": "f1a79406-c9ad-400c-e7c4-22872b592579",
        "colab": {
          "base_uri": "https://localhost:8080/",
          "height": 350
        }
      },
      "source": [
        "show_graph(hist2)"
      ],
      "execution_count": 14,
      "outputs": [
        {
          "output_type": "display_data",
          "data": {
            "image/png": "[encoded data removed]",
            "text/plain": [
              "<Figure size 648x360 with 1 Axes>"
            ]
          },
          "metadata": {
            "tags": []
          }
        }
      ]
    },
    {
      "cell_type": "code",
      "metadata": {
        "id": "aJ2StAPFrh6d",
        "colab_type": "code",
        "outputId": "150db3cd-01eb-4125-bc9b-8a4005964097",
        "colab": {
          "base_uri": "https://localhost:8080/",
          "height": 91
        }
      },
      "source": [
        "y_pred = test_two_layers(x, model2)\n",
        "print(y_pred)"
      ],
      "execution_count": 15,
      "outputs": [
        {
          "output_type": "stream",
          "text": [
            "[[0.]\n",
            " [0.]\n",
            " [1.]\n",
            " [0.]]\n"
          ],
          "name": "stdout"
        }
      ]
    },
    {
      "cell_type": "code",
      "metadata": {
        "colab_type": "code",
        "outputId": "b213d53b-cb15-436a-da9f-0b4ced8c5237",
        "id": "ImmeE33Dry_R",
        "colab": {
          "base_uri": "https://localhost:8080/",
          "height": 571
        }
      },
      "source": [
        "hist2, model2 = train_two_layers(x, y, n_hidden=4, lr=1, max_epoch=300, print_every=10, weights=model2, history=hist2)"
      ],
      "execution_count": 16,
      "outputs": [
        {
          "output_type": "stream",
          "text": [
            "epoch: 0/300, mse: 0.2402083, acc: 0.75\n",
            "epoch: 10/300, mse: 0.2370567, acc: 0.75\n",
            "epoch: 20/300, mse: 0.2329436, acc: 0.75\n",
            "epoch: 30/300, mse: 0.2276865, acc: 0.75\n",
            "epoch: 40/300, mse: 0.2211480, acc: 0.75\n",
            "epoch: 50/300, mse: 0.2132695, acc: 0.75\n",
            "epoch: 60/300, mse: 0.2040762, acc: 0.75\n",
            "epoch: 70/300, mse: 0.1936402, acc: 0.75\n",
            "epoch: 80/300, mse: 0.1820211, acc: 0.75\n",
            "epoch: 90/300, mse: 0.1692346, acc: 0.75\n",
            "epoch: 100/300, mse: 0.1552918, acc: 0.75\n",
            "epoch: 110/300, mse: 0.1403064, acc: 1.00\n",
            "epoch: 120/300, mse: 0.1246102, acc: 1.00\n",
            "epoch: 130/300, mse: 0.1087884, acc: 1.00\n",
            "epoch: 140/300, mse: 0.0935747, acc: 1.00\n",
            "epoch: 150/300, mse: 0.0796446, acc: 1.00\n",
            "epoch: 160/300, mse: 0.0674351, acc: 1.00\n",
            "epoch: 170/300, mse: 0.0570899, acc: 1.00\n",
            "epoch: 180/300, mse: 0.0485209, acc: 1.00\n",
            "epoch: 190/300, mse: 0.0415115, acc: 1.00\n",
            "epoch: 200/300, mse: 0.0358041, acc: 1.00\n",
            "epoch: 210/300, mse: 0.0311521, acc: 1.00\n",
            "epoch: 220/300, mse: 0.0273426, acc: 1.00\n",
            "epoch: 230/300, mse: 0.0242020, acc: 1.00\n",
            "epoch: 240/300, mse: 0.0215920, acc: 1.00\n",
            "epoch: 250/300, mse: 0.0194050, acc: 1.00\n",
            "epoch: 260/300, mse: 0.0175568, acc: 1.00\n",
            "epoch: 270/300, mse: 0.0159821, acc: 1.00\n",
            "epoch: 280/300, mse: 0.0146300, acc: 1.00\n",
            "epoch: 290/300, mse: 0.0134603, acc: 1.00\n"
          ],
          "name": "stdout"
        }
      ]
    },
    {
      "cell_type": "code",
      "metadata": {
        "id": "TeXpZ72OsPQs",
        "colab_type": "code",
        "outputId": "fc995254-d56e-4733-dc59-2a416e25673a",
        "colab": {
          "base_uri": "https://localhost:8080/",
          "height": 350
        }
      },
      "source": [
        "show_graph(hist2)"
      ],
      "execution_count": 17,
      "outputs": [
        {
          "output_type": "display_data",
          "data": {
            "image/png": "[encoded data removed]",
            "text/plain": [
              "<Figure size 648x360 with 1 Axes>"
            ]
          },
          "metadata": {
            "tags": []
          }
        }
      ]
    },
    {
      "cell_type": "code",
      "metadata": {
        "id": "HT8IMn4YsToy",
        "colab_type": "code",
        "outputId": "bbe9b0c4-4df0-46c2-f003-08ffb9fc7c13",
        "colab": {
          "base_uri": "https://localhost:8080/",
          "height": 91
        }
      },
      "source": [
        "y_pred = test_two_layers(x, model2)\n",
        "print(y_pred)"
      ],
      "execution_count": 18,
      "outputs": [
        {
          "output_type": "stream",
          "text": [
            "[[0.]\n",
            " [1.]\n",
            " [1.]\n",
            " [0.]]\n"
          ],
          "name": "stdout"
        }
      ]
    },
    {
      "cell_type": "markdown",
      "metadata": {
        "id": "tDrHXIM_saSJ",
        "colab_type": "text"
      },
      "source": [
        "Learning Rate"
      ]
    },
    {
      "cell_type": "code",
      "metadata": {
        "id": "ohXM3PnXsblo",
        "colab_type": "code",
        "outputId": "f2252a0a-62e1-4ee7-8c27-4e1dbef21230",
        "colab": {
          "base_uri": "https://localhost:8080/",
          "height": 165
        }
      },
      "source": [
        "hist3, model3 = train_two_layers(x, y, n_hidden=4, lr=0.1, max_epoch=400, print_every=50)"
      ],
      "execution_count": 19,
      "outputs": [
        {
          "output_type": "stream",
          "text": [
            "epoch: 0/400, mse: 0.2585459, acc: 0.50\n",
            "epoch: 50/400, mse: 0.2495192, acc: 0.25\n",
            "epoch: 100/400, mse: 0.2492035, acc: 0.50\n",
            "epoch: 150/400, mse: 0.2489999, acc: 0.50\n",
            "epoch: 200/400, mse: 0.2487770, acc: 0.50\n",
            "epoch: 250/400, mse: 0.2485283, acc: 0.50\n",
            "epoch: 300/400, mse: 0.2482483, acc: 0.50\n",
            "epoch: 350/400, mse: 0.2479308, acc: 0.50\n"
          ],
          "name": "stdout"
        }
      ]
    },
    {
      "cell_type": "code",
      "metadata": {
        "id": "jmquBlV2sndW",
        "colab_type": "code",
        "outputId": "a56c1ffe-05d0-40ff-bebd-514fa7361e89",
        "colab": {
          "base_uri": "https://localhost:8080/",
          "height": 350
        }
      },
      "source": [
        "show_graph(hist3)"
      ],
      "execution_count": 20,
      "outputs": [
        {
          "output_type": "display_data",
          "data": {
            "image/png": "[encoded data removed]",
            "text/plain": [
              "<Figure size 648x360 with 1 Axes>"
            ]
          },
          "metadata": {
            "tags": []
          }
        }
      ]
    },
    {
      "cell_type": "code",
      "metadata": {
        "id": "6-lmt_Pjspul",
        "colab_type": "code",
        "outputId": "db265e3f-140a-4414-b39e-dcde39a6ba8a",
        "colab": {
          "base_uri": "https://localhost:8080/",
          "height": 91
        }
      },
      "source": [
        "y_pred = test_two_layers(x, model3)\n",
        "print(y_pred)"
      ],
      "execution_count": 21,
      "outputs": [
        {
          "output_type": "stream",
          "text": [
            "[[0.]\n",
            " [0.]\n",
            " [1.]\n",
            " [1.]]\n"
          ],
          "name": "stdout"
        }
      ]
    },
    {
      "cell_type": "code",
      "metadata": {
        "id": "qvRKUPd4tBLH",
        "colab_type": "code",
        "outputId": "8252c223-3cf6-441e-a49c-cce9493cda81",
        "colab": {
          "base_uri": "https://localhost:8080/",
          "height": 571
        }
      },
      "source": [
        "hist3, model3 = train_two_layers(x, y, n_hidden=4, lr=0.1, max_epoch=3000, weights=model3, history=hist3, print_every=100)"
      ],
      "execution_count": 22,
      "outputs": [
        {
          "output_type": "stream",
          "text": [
            "epoch: 0/3000, mse: 0.2475686, acc: 0.50\n",
            "epoch: 100/3000, mse: 0.2466781, acc: 0.50\n",
            "epoch: 200/3000, mse: 0.2455027, acc: 0.50\n",
            "epoch: 300/3000, mse: 0.2439575, acc: 0.50\n",
            "epoch: 400/3000, mse: 0.2419530, acc: 0.50\n",
            "epoch: 500/3000, mse: 0.2394044, acc: 0.50\n",
            "epoch: 600/3000, mse: 0.2362408, acc: 0.50\n",
            "epoch: 700/3000, mse: 0.2324124, acc: 0.75\n",
            "epoch: 800/3000, mse: 0.2279000, acc: 0.75\n",
            "epoch: 900/3000, mse: 0.2227292, acc: 0.75\n",
            "epoch: 1000/3000, mse: 0.2169853, acc: 0.75\n",
            "epoch: 1100/3000, mse: 0.2108138, acc: 0.75\n",
            "epoch: 1200/3000, mse: 0.2043949, acc: 0.75\n",
            "epoch: 1300/3000, mse: 0.1978977, acc: 0.75\n",
            "epoch: 1400/3000, mse: 0.1914389, acc: 0.75\n",
            "epoch: 1500/3000, mse: 0.1850638, acc: 0.75\n",
            "epoch: 1600/3000, mse: 0.1787523, acc: 0.75\n",
            "epoch: 1700/3000, mse: 0.1724359, acc: 0.75\n",
            "epoch: 1800/3000, mse: 0.1660158, acc: 0.75\n",
            "epoch: 1900/3000, mse: 0.1593750, acc: 0.75\n",
            "epoch: 2000/3000, mse: 0.1523914, acc: 0.75\n",
            "epoch: 2100/3000, mse: 0.1449560, acc: 0.75\n",
            "epoch: 2200/3000, mse: 0.1370012, acc: 0.75\n",
            "epoch: 2300/3000, mse: 0.1285311, acc: 0.75\n",
            "epoch: 2400/3000, mse: 0.1196375, acc: 1.00\n",
            "epoch: 2500/3000, mse: 0.1104881, acc: 1.00\n",
            "epoch: 2600/3000, mse: 0.1012915, acc: 1.00\n",
            "epoch: 2700/3000, mse: 0.0922587, acc: 1.00\n",
            "epoch: 2800/3000, mse: 0.0835759, acc: 1.00\n",
            "epoch: 2900/3000, mse: 0.0753895, acc: 1.00\n"
          ],
          "name": "stdout"
        }
      ]
    },
    {
      "cell_type": "code",
      "metadata": {
        "id": "ed-T5LRmtU8Y",
        "colab_type": "code",
        "outputId": "7d8c6e7a-a599-4ddf-ccb1-d3c592dbe992",
        "colab": {
          "base_uri": "https://localhost:8080/",
          "height": 350
        }
      },
      "source": [
        "show_graph(hist3)"
      ],
      "execution_count": 23,
      "outputs": [
        {
          "output_type": "display_data",
          "data": {
            "image/png": "[encoded data removed]",
            "text/plain": [
              "<Figure size 648x360 with 1 Axes>"
            ]
          },
          "metadata": {
            "tags": []
          }
        }
      ]
    },
    {
      "cell_type": "code",
      "metadata": {
        "id": "PE-CvHalte8S",
        "colab_type": "code",
        "outputId": "5489ca0b-3cc9-477e-cce0-7d9635e3a6b6",
        "colab": {
          "base_uri": "https://localhost:8080/",
          "height": 91
        }
      },
      "source": [
        "y_pred = test_two_layers(x, model3)\n",
        "print(y_pred)"
      ],
      "execution_count": 24,
      "outputs": [
        {
          "output_type": "stream",
          "text": [
            "[[0.]\n",
            " [1.]\n",
            " [1.]\n",
            " [0.]]\n"
          ],
          "name": "stdout"
        }
      ]
    },
    {
      "cell_type": "markdown",
      "metadata": {
        "id": "yYLbCD5OtmV6",
        "colab_type": "text"
      },
      "source": [
        "Bigger Dataset"
      ]
    },
    {
      "cell_type": "code",
      "metadata": {
        "id": "2svYrCfutoTd",
        "colab_type": "code",
        "colab": {}
      },
      "source": [
        "from sklearn.datasets import make_classification\n",
        "\n",
        "COLORS = ['red','blue']\n",
        "DIM = 20\n",
        "INFO = 10\n",
        "CLASS = 2\n",
        "NDATA = 600\n",
        "\n",
        "xb, yb1 = make_classification(n_samples=NDATA, n_classes=CLASS, n_features=DIM,\n",
        "                               n_informative=INFO, n_clusters_per_class=4, flip_y=0.2, random_state=33)\n",
        "\n",
        "yb = yb1.reshape((-1,1))"
      ],
      "execution_count": 0,
      "outputs": []
    },
    {
      "cell_type": "code",
      "metadata": {
        "id": "ZsVuyDf6uNBO",
        "colab_type": "code",
        "colab": {}
      },
      "source": [
        "from mpl_toolkits.mplot3d import Axes3D\n",
        "\n",
        "ft = [0, 1, 2]\n",
        "\n",
        "fig = plt.figure(figsize=(10,6), dpi=100)\n",
        "ax = Axes3D(fig)\n",
        "ax.scatter(xb[yb1 == 0, ft[0]], xb[yb1 == 0, ft[1]], xb[yb1 == 0, ft[2]], c=COLORS[0], marker='s')\n",
        "ax.scatter(xb[yb1 == 1, ft[0]], xb[yb1 == 1, ft[1]], xb[yb1 == 1, ft[2]], c=COLORS[1], marker='o')\n",
        "plt.show()"
      ],
      "execution_count": 0,
      "outputs": []
    },
    {
      "cell_type": "code",
      "metadata": {
        "id": "trVcgvJevHZd",
        "colab_type": "code",
        "outputId": "07345463-db9a-4031-e72d-8d1de57c7426",
        "colab": {
          "base_uri": "https://localhost:8080/",
          "height": 386
        }
      },
      "source": [
        "hist4, model4 = train_two_layers(xb, yb, n_hidden=4, lr=1, max_epoch=500, print_every=25)"
      ],
      "execution_count": 27,
      "outputs": [
        {
          "output_type": "stream",
          "text": [
            "epoch: 0/500, mse: 0.2334994, acc: 0.66\n",
            "epoch: 25/500, mse: 0.2610825, acc: 0.73\n",
            "epoch: 50/500, mse: 0.1920981, acc: 0.80\n",
            "epoch: 75/500, mse: 0.2046450, acc: 0.79\n",
            "epoch: 100/500, mse: 0.2049841, acc: 0.79\n",
            "epoch: 125/500, mse: 0.1888821, acc: 0.81\n",
            "epoch: 150/500, mse: 0.2448439, acc: 0.72\n",
            "epoch: 175/500, mse: 0.1798076, acc: 0.82\n",
            "epoch: 200/500, mse: 0.2088887, acc: 0.79\n",
            "epoch: 225/500, mse: 0.1943314, acc: 0.81\n",
            "epoch: 250/500, mse: 0.1757954, acc: 0.82\n",
            "epoch: 275/500, mse: 0.1894328, acc: 0.80\n",
            "epoch: 300/500, mse: 0.1979738, acc: 0.80\n",
            "epoch: 325/500, mse: 0.1816506, acc: 0.81\n",
            "epoch: 350/500, mse: 0.1796211, acc: 0.81\n",
            "epoch: 375/500, mse: 0.1901934, acc: 0.81\n",
            "epoch: 400/500, mse: 0.1742755, acc: 0.82\n",
            "epoch: 425/500, mse: 0.1727423, acc: 0.82\n",
            "epoch: 450/500, mse: 0.1678859, acc: 0.83\n",
            "epoch: 475/500, mse: 0.1730088, acc: 0.82\n"
          ],
          "name": "stdout"
        }
      ]
    },
    {
      "cell_type": "code",
      "metadata": {
        "id": "LJfVrHBYvUl8",
        "colab_type": "code",
        "outputId": "50336e47-87b3-4d19-ee05-a2daee20a791",
        "colab": {
          "base_uri": "https://localhost:8080/",
          "height": 350
        }
      },
      "source": [
        "show_graph(hist4)"
      ],
      "execution_count": 28,
      "outputs": [
        {
          "output_type": "display_data",
          "data": {
            "image/png": "[encoded data removed]",
            "text/plain": [
              "<Figure size 648x360 with 1 Axes>"
            ]
          },
          "metadata": {
            "tags": []
          }
        }
      ]
    },
    {
      "cell_type": "code",
      "metadata": {
        "id": "WdNNNme3vX1t",
        "colab_type": "code",
        "outputId": "cdeb764d-6986-432c-baf1-fabd441e2d9b",
        "colab": {
          "base_uri": "https://localhost:8080/",
          "height": 386
        }
      },
      "source": [
        "hist5, model5 = train_two_layers(xb, yb, n_hidden=4, lr=0.01, max_epoch=500, print_every=25)"
      ],
      "execution_count": 29,
      "outputs": [
        {
          "output_type": "stream",
          "text": [
            "epoch: 0/500, mse: 0.2997655, acc: 0.49\n",
            "epoch: 25/500, mse: 0.1991747, acc: 0.70\n",
            "epoch: 50/500, mse: 0.1797586, acc: 0.73\n",
            "epoch: 75/500, mse: 0.1730770, acc: 0.74\n",
            "epoch: 100/500, mse: 0.1681590, acc: 0.75\n",
            "epoch: 125/500, mse: 0.1640930, acc: 0.78\n",
            "epoch: 150/500, mse: 0.1604234, acc: 0.79\n",
            "epoch: 175/500, mse: 0.1565332, acc: 0.79\n",
            "epoch: 200/500, mse: 0.1522875, acc: 0.80\n",
            "epoch: 225/500, mse: 0.1483178, acc: 0.81\n",
            "epoch: 250/500, mse: 0.1449093, acc: 0.81\n",
            "epoch: 275/500, mse: 0.1423353, acc: 0.83\n",
            "epoch: 300/500, mse: 0.1402975, acc: 0.83\n",
            "epoch: 325/500, mse: 0.1385816, acc: 0.83\n",
            "epoch: 350/500, mse: 0.1370762, acc: 0.83\n",
            "epoch: 375/500, mse: 0.1357297, acc: 0.83\n",
            "epoch: 400/500, mse: 0.1345301, acc: 0.84\n",
            "epoch: 425/500, mse: 0.1334740, acc: 0.84\n",
            "epoch: 450/500, mse: 0.1325456, acc: 0.84\n",
            "epoch: 475/500, mse: 0.1317220, acc: 0.84\n"
          ],
          "name": "stdout"
        }
      ]
    },
    {
      "cell_type": "code",
      "metadata": {
        "id": "i1n_2otgvfL4",
        "colab_type": "code",
        "outputId": "c4364cd6-b4ea-4341-d6c7-dee59f318e44",
        "colab": {
          "base_uri": "https://localhost:8080/",
          "height": 350
        }
      },
      "source": [
        "show_graph(hist5)"
      ],
      "execution_count": 30,
      "outputs": [
        {
          "output_type": "display_data",
          "data": {
            "image/png": "[encoded data removed]",
            "text/plain": [
              "<Figure size 648x360 with 1 Axes>"
            ]
          },
          "metadata": {
            "tags": []
          }
        }
      ]
    },
    {
      "cell_type": "markdown",
      "metadata": {
        "id": "qZsb5K6Jvoq3",
        "colab_type": "text"
      },
      "source": [
        "Layer Size"
      ]
    },
    {
      "cell_type": "code",
      "metadata": {
        "id": "Ggs0EyvYvp0j",
        "colab_type": "code",
        "outputId": "05dc1729-3ca2-48ca-b6b3-22049d0be673",
        "colab": {
          "base_uri": "https://localhost:8080/",
          "height": 386
        }
      },
      "source": [
        "hist6, model6 = train_two_layers(xb, yb, n_hidden=20, lr=0.01, max_epoch=500, print_every=25)"
      ],
      "execution_count": 31,
      "outputs": [
        {
          "output_type": "stream",
          "text": [
            "epoch: 0/500, mse: 0.3294168, acc: 0.48\n",
            "epoch: 25/500, mse: 0.1686224, acc: 0.77\n",
            "epoch: 50/500, mse: 0.1569501, acc: 0.80\n",
            "epoch: 75/500, mse: 0.1480754, acc: 0.80\n",
            "epoch: 100/500, mse: 0.1396221, acc: 0.81\n",
            "epoch: 125/500, mse: 0.1307213, acc: 0.83\n",
            "epoch: 150/500, mse: 0.1217637, acc: 0.84\n",
            "epoch: 175/500, mse: 0.1131142, acc: 0.86\n",
            "epoch: 200/500, mse: 0.1050355, acc: 0.88\n",
            "epoch: 225/500, mse: 0.0976778, acc: 0.89\n",
            "epoch: 250/500, mse: 0.0907733, acc: 0.90\n",
            "epoch: 275/500, mse: 0.0841007, acc: 0.92\n",
            "epoch: 300/500, mse: 0.0780866, acc: 0.93\n",
            "epoch: 325/500, mse: 0.0726096, acc: 0.94\n",
            "epoch: 350/500, mse: 0.0676016, acc: 0.94\n",
            "epoch: 375/500, mse: 0.0630964, acc: 0.95\n",
            "epoch: 400/500, mse: 0.0590285, acc: 0.95\n",
            "epoch: 425/500, mse: 0.0553896, acc: 0.95\n",
            "epoch: 450/500, mse: 0.0521023, acc: 0.96\n",
            "epoch: 475/500, mse: 0.0490492, acc: 0.96\n"
          ],
          "name": "stdout"
        }
      ]
    },
    {
      "cell_type": "code",
      "metadata": {
        "id": "0Bj47s00v-F_",
        "colab_type": "code",
        "outputId": "f0ee6136-9661-4d9d-906d-7eafc167c479",
        "colab": {
          "base_uri": "https://localhost:8080/",
          "height": 350
        }
      },
      "source": [
        "show_graph(hist6)"
      ],
      "execution_count": 32,
      "outputs": [
        {
          "output_type": "display_data",
          "data": {
            "image/png": "[encoded data removed]",
            "text/plain": [
              "<Figure size 648x360 with 1 Axes>"
            ]
          },
          "metadata": {
            "tags": []
          }
        }
      ]
    },
    {
      "cell_type": "code",
      "metadata": {
        "id": "AwdF1Jw-wG5u",
        "colab_type": "code",
        "colab": {}
      },
      "source": [
        "def show_n_graph(histories, names, size=[9,5]):\n",
        "    plt.rcParams['figure.figsize'] = size\n",
        "    for i in range(len(histories)):\n",
        "        plt.plot(histories[i], label=names[i])\n",
        "    plt.xlabel('epoch')\n",
        "    plt.ylabel('training mse')\n",
        "    plt.title('Training MSE History')\n",
        "    plt.legend()\n",
        "    plt.show()"
      ],
      "execution_count": 0,
      "outputs": []
    },
    {
      "cell_type": "code",
      "metadata": {
        "id": "yDe53SoPwmbj",
        "colab_type": "code",
        "outputId": "80c54bfb-0d8a-4683-8cc6-d0b8316ff6c9",
        "colab": {
          "base_uri": "https://localhost:8080/",
          "height": 350
        }
      },
      "source": [
        "show_n_graph([hist5, hist6], ['4 hidden', '20 hidden'])"
      ],
      "execution_count": 34,
      "outputs": [
        {
          "output_type": "display_data",
          "data": {
            "image/png": "[encoded data removed]",
            "text/plain": [
              "<Figure size 648x360 with 1 Axes>"
            ]
          },
          "metadata": {
            "tags": []
          }
        }
      ]
    },
    {
      "cell_type": "markdown",
      "metadata": {
        "id": "IqzYq-M4w5Es",
        "colab_type": "text"
      },
      "source": [
        "Full Batch Gradient Descent"
      ]
    },
    {
      "cell_type": "code",
      "metadata": {
        "id": "pJuiVbTcw7WD",
        "colab_type": "code",
        "outputId": "3002e53f-076e-4036-b231-95744552e3a8",
        "colab": {
          "base_uri": "https://localhost:8080/",
          "height": 109
        }
      },
      "source": [
        "W1, b1, W2, b2 = model6\n",
        "print('size data train = ', xb.shape, ': ', xb.nbytes, 'byte')\n",
        "print('size weight W1  = ', W1.shape, ': ', W1.nbytes, 'byte')\n",
        "print('size weight b1  = ', b1.shape, ': ', b1.nbytes, 'byte')\n",
        "print('size weight W2  = ', W2.shape, ': ', W2.nbytes, 'byte')\n",
        "print('size weight b2  = ', b2.shape, ': ', b2.nbytes, 'byte')"
      ],
      "execution_count": 35,
      "outputs": [
        {
          "output_type": "stream",
          "text": [
            "size data train =  (600, 20) :  96000 byte\n",
            "size weight W1  =  (20, 20) :  3200 byte\n",
            "size weight b1  =  (1, 20) :  160 byte\n",
            "size weight W2  =  (20, 1) :  160 byte\n",
            "size weight b2  =  (1, 1) :  8 byte\n"
          ],
          "name": "stdout"
        }
      ]
    },
    {
      "cell_type": "code",
      "metadata": {
        "id": "S2Mjulprxa0g",
        "colab_type": "code",
        "outputId": "c1d0d5e3-174e-4731-a142-69fb69307753",
        "colab": {
          "base_uri": "https://localhost:8080/",
          "height": 54
        }
      },
      "source": [
        "V1 = affine_forward(xb, W1, b1)\n",
        "A1 = sigmoid_forward(V1)\n",
        "V2 = affine_forward(A1, W2, b2)\n",
        "y_hat = sigmoid_forward(V2)\n",
        "\n",
        "print('size weight A1    = ', A1.shape, ': ', A1.nbytes, 'byte')\n",
        "print('size weight y_hat = ', y_hat.shape, ': ', y_hat.nbytes, 'byte')"
      ],
      "execution_count": 36,
      "outputs": [
        {
          "output_type": "stream",
          "text": [
            "size weight A1    =  (600, 20) :  96000 byte\n",
            "size weight y_hat =  (600, 1) :  4800 byte\n"
          ],
          "name": "stdout"
        }
      ]
    },
    {
      "cell_type": "code",
      "metadata": {
        "id": "8MVtaqm4xzqx",
        "colab_type": "code",
        "outputId": "863553d0-470c-47bc-cecf-3852c38967a0",
        "colab": {
          "base_uri": "https://localhost:8080/",
          "height": 128
        }
      },
      "source": [
        "E = yb-y_hat\n",
        "\n",
        "dV2 = sigmoid_backward(E, y_hat)\n",
        "dA1, dW2, db2 = affine_backward(dV2, A1, W2, b2)\n",
        "dV1 = sigmoid_backward(dA1, A1)\n",
        "dx, dW1, db1 = affine_backward(dV1, xb, W1, b1)\n",
        "\n",
        "print('size loss matrix = ', E.shape, ': ', E.nbytes, 'byte')\n",
        "print('size gradient A1 = ', dA1.shape, ': ', dA1.nbytes, 'byte')\n",
        "print('size gradient W1 = ', dW1.shape, ': ', dW1.nbytes, 'byte')\n",
        "print('size gradient b1 = ', db1.shape, ': ', db1.nbytes, 'byte')\n",
        "print('size gradient W2 = ', dW2.shape, ': ', dW2.nbytes, 'byte')\n",
        "print('size gradient b2 = ', db2.shape, ': ', db2.nbytes, 'byte')"
      ],
      "execution_count": 37,
      "outputs": [
        {
          "output_type": "stream",
          "text": [
            "size loss matrix =  (600, 1) :  4800 byte\n",
            "size gradient A1 =  (600, 20) :  96000 byte\n",
            "size gradient W1 =  (20, 20) :  3200 byte\n",
            "size gradient b1 =  (1, 20) :  160 byte\n",
            "size gradient W2 =  (20, 1) :  160 byte\n",
            "size gradient b2 =  (1, 1) :  8 byte\n"
          ],
          "name": "stdout"
        }
      ]
    },
    {
      "cell_type": "code",
      "metadata": {
        "id": "x8uBL_0uyj-O",
        "colab_type": "code",
        "outputId": "b8ef4f89-9f46-4c1b-95e7-8034cf5b81a6",
        "colab": {
          "base_uri": "https://localhost:8080/",
          "height": 35
        }
      },
      "source": [
        "total_memory = (\n",
        "    xb.nbytes + W1.nbytes + W2.nbytes +\n",
        "    b1.nbytes + b2.nbytes + A1.nbytes +\n",
        "    y_hat.nbytes + E.nbytes + dA1.nbytes +\n",
        "    dW1.nbytes + dW2.nbytes + db1.nbytes + db2.nbytes\n",
        ")\n",
        "\n",
        "print('total memory for 1 epoch = ', total_memory/1000, 'KB')"
      ],
      "execution_count": 38,
      "outputs": [
        {
          "output_type": "stream",
          "text": [
            "total memory for 1 epoch =  304.656 KB\n"
          ],
          "name": "stdout"
        }
      ]
    },
    {
      "cell_type": "markdown",
      "metadata": {
        "id": "HPlltOHpzD8R",
        "colab_type": "text"
      },
      "source": [
        "Stochastic Gradient Descent"
      ]
    },
    {
      "cell_type": "code",
      "metadata": {
        "id": "nzfgnzxXzGLQ",
        "colab_type": "code",
        "colab": {}
      },
      "source": [
        "from sklearn.utils import shuffle\n",
        "\n",
        "def train_two_layers_sgd(x, y, n_hidden, lr, max_epoch, weights=None, history=None, print_every=10):\n",
        "    n_data, n_dim = x.shape\n",
        "    _, n_out = y.shape\n",
        "\n",
        "    if weights is None:\n",
        "        W1 = 2 * np.random.random((n_dim, n_hidden)) - 1\n",
        "        b1 = np.zeros((1, n_hidden))\n",
        "        W2 = 2 * np.random.random((n_hidden, n_out)) - 1\n",
        "        b2 = np.zeros((1, n_out))\n",
        "        history = []\n",
        "    else:\n",
        "        W1, b1, W2, b2 = weights\n",
        "\n",
        "    for ep in range(max_epoch):\n",
        "        x, y = shuffle(x,y)\n",
        "\n",
        "        for i in range(n_data):\n",
        "            xs = x[i].reshape(1,-1)\n",
        "            ys = y[i]\n",
        "\n",
        "            V1 = affine_forward(xs, W1, b1)\n",
        "            A1 = sigmoid_forward(V1)\n",
        "            V2 = affine_forward(A1, W2, b2)\n",
        "            y_hat = sigmoid_forward(V2)\n",
        "\n",
        "            E = ys-y_hat\n",
        "\n",
        "            dV2 = sigmoid_backward(E, y_hat)\n",
        "            dA1, dW2, db2 = affine_backward(dV2, A1, W2, b2)\n",
        "            dV1 = sigmoid_backward(dA1, A1)\n",
        "            dxs, dW1, db1 = affine_backward(dV1, xs, W1, b1)\n",
        "\n",
        "            W2 += lr*dW2\n",
        "            b2 += lr*db2\n",
        "            W1 += lr*dW1\n",
        "            b1 += lr*db1\n",
        "\n",
        "        y_hat = test_two_layers(x, (W1, b1, W2, b2))\n",
        "        E = y-y_hat\n",
        "        mse = np.mean(E**2)\n",
        "        history.append(mse)\n",
        "\n",
        "        if ep % print_every == 0:\n",
        "            acc = np.sum(y == np.round(y_hat))/n_data\n",
        "            print('epoch: %i/%i, mse: %.7f, acc: %.2f' % (ep, max_epoch, mse, acc))\n",
        "    \n",
        "    weights = (W1, b1, W2, b2)\n",
        "    return history, weights"
      ],
      "execution_count": 0,
      "outputs": []
    },
    {
      "cell_type": "code",
      "metadata": {
        "id": "EFCOEWu33AgG",
        "colab_type": "code",
        "outputId": "6426db62-1e93-4c41-df73-94665d7d49b3",
        "colab": {
          "base_uri": "https://localhost:8080/",
          "height": 202
        }
      },
      "source": [
        "hist7, model7 = train_two_layers(xb, yb, n_hidden=20, lr=0.01, max_epoch=500, print_every=50)"
      ],
      "execution_count": 40,
      "outputs": [
        {
          "output_type": "stream",
          "text": [
            "epoch: 0/500, mse: 0.3613175, acc: 0.49\n",
            "epoch: 50/500, mse: 0.1639014, acc: 0.76\n",
            "epoch: 100/500, mse: 0.1379615, acc: 0.82\n",
            "epoch: 150/500, mse: 0.1178979, acc: 0.85\n",
            "epoch: 200/500, mse: 0.1001414, acc: 0.88\n",
            "epoch: 250/500, mse: 0.0850847, acc: 0.90\n",
            "epoch: 300/500, mse: 0.0733375, acc: 0.93\n",
            "epoch: 350/500, mse: 0.0633156, acc: 0.94\n",
            "epoch: 400/500, mse: 0.0548100, acc: 0.96\n",
            "epoch: 450/500, mse: 0.0480004, acc: 0.97\n"
          ],
          "name": "stdout"
        }
      ]
    },
    {
      "cell_type": "code",
      "metadata": {
        "id": "T1pwcfXV31tt",
        "colab_type": "code",
        "outputId": "fa9d4878-3101-48af-d2d8-904bae1f0968",
        "colab": {
          "base_uri": "https://localhost:8080/",
          "height": 202
        }
      },
      "source": [
        "hist8, model8 = train_two_layers_sgd(xb, yb, n_hidden=20, lr=0.01, max_epoch=500, print_every=50)"
      ],
      "execution_count": 41,
      "outputs": [
        {
          "output_type": "stream",
          "text": [
            "epoch: 0/500, mse: 0.4750000, acc: 0.53\n",
            "epoch: 50/500, mse: 0.2233333, acc: 0.78\n",
            "epoch: 100/500, mse: 0.1950000, acc: 0.81\n",
            "epoch: 150/500, mse: 0.1550000, acc: 0.84\n",
            "epoch: 200/500, mse: 0.1233333, acc: 0.88\n",
            "epoch: 250/500, mse: 0.0983333, acc: 0.90\n",
            "epoch: 300/500, mse: 0.0800000, acc: 0.92\n",
            "epoch: 350/500, mse: 0.0700000, acc: 0.93\n",
            "epoch: 400/500, mse: 0.0533333, acc: 0.95\n",
            "epoch: 450/500, mse: 0.0433333, acc: 0.96\n"
          ],
          "name": "stdout"
        }
      ]
    },
    {
      "cell_type": "code",
      "metadata": {
        "id": "F-XCVDG24Pe8",
        "colab_type": "code",
        "outputId": "91ea3ae8-a508-4b1d-b589-5f5424938f07",
        "colab": {
          "base_uri": "https://localhost:8080/",
          "height": 350
        }
      },
      "source": [
        "show_n_graph([hist7, hist8], ['Full-GD', 'SGD'])"
      ],
      "execution_count": 42,
      "outputs": [
        {
          "output_type": "display_data",
          "data": {
            "image/png": "[encoded data removed]",
            "text/plain": [
              "<Figure size 648x360 with 1 Axes>"
            ]
          },
          "metadata": {
            "tags": []
          }
        }
      ]
    },
    {
      "cell_type": "markdown",
      "metadata": {
        "id": "XqLnSdzy4Yfb",
        "colab_type": "text"
      },
      "source": [
        "Mini-batch Gradient Descent"
      ]
    },
    {
      "cell_type": "code",
      "metadata": {
        "id": "QkHRd9f94ahG",
        "colab_type": "code",
        "colab": {}
      },
      "source": [
        "def train_two_layers_minibatch(x, y, n_hidden, lr, max_epoch, batch, weights=None, history=None, print_every=10):\n",
        "    n_data, n_dim = x.shape\n",
        "    _, n_out = y.shape\n",
        "    n_batch = n_data//batch\n",
        "\n",
        "    if weights is None:\n",
        "        W1 = 2 * np.random.random((n_dim, n_hidden)) - 1\n",
        "        b1 = np.zeros((1, n_hidden))\n",
        "        W2 = 2 * np.random.random((n_hidden, n_out)) - 1\n",
        "        b2 = np.zeros((1, n_out))\n",
        "        history = []\n",
        "    else:\n",
        "        W1, b1, W2, b2 = weights\n",
        "\n",
        "    for ep in range(max_epoch):\n",
        "        x, y = shuffle(x,y)\n",
        "        xb = x.reshape((batch, n_batch, n_dim))\n",
        "        yb = y.reshape((batch, -1))\n",
        "\n",
        "        for i in range(xb.shape[0]):\n",
        "            xs = xb[i]\n",
        "            ys = yb[i].reshape(1,-1).T\n",
        "\n",
        "            V1 = affine_forward(xs, W1, b1)\n",
        "            A1 = sigmoid_forward(V1)\n",
        "            V2 = affine_forward(A1, W2, b2)\n",
        "            y_hat = sigmoid_forward(V2)\n",
        "\n",
        "            E = ys-y_hat\n",
        "\n",
        "            dV2 = sigmoid_backward(E, y_hat)\n",
        "            dA1, dW2, db2 = affine_backward(dV2, A1, W2, b2)\n",
        "            dV1 = sigmoid_backward(dA1, A1)\n",
        "            dxs, dW1, db1 = affine_backward(dV1, xs, W1, b1)\n",
        "\n",
        "            W2 += lr*dW2\n",
        "            b2 += lr*db2\n",
        "            W1 += lr*dW1\n",
        "            b1 += lr*db1\n",
        "            \n",
        "        y_hat = test_two_layers(x, (W1, b1, W2, b2))\n",
        "        E = y-y_hat\n",
        "        mse = np.mean(E**2)\n",
        "        history.append(mse)\n",
        "\n",
        "        if ep % print_every == 0:\n",
        "            acc = np.sum(y == np.round(y_hat))/n_data\n",
        "            print('epoch: %i/%i, mse: %.7f, acc: %.2f' % (ep, max_epoch, mse, acc))\n",
        "    \n",
        "    weights = (W1, b1, W2, b2)\n",
        "    return history, weights"
      ],
      "execution_count": 0,
      "outputs": []
    },
    {
      "cell_type": "code",
      "metadata": {
        "id": "n7QkJCCO5iAo",
        "colab_type": "code",
        "outputId": "ecf82846-dafc-487c-9e15-82fd44252c8e",
        "colab": {
          "base_uri": "https://localhost:8080/",
          "height": 940
        }
      },
      "source": [
        "hist9, model9 = train_two_layers_minibatch(xb, yb, n_hidden=20, lr=0.01, max_epoch=500, batch=10, print_every=10)"
      ],
      "execution_count": 44,
      "outputs": [
        {
          "output_type": "stream",
          "text": [
            "epoch: 0/500, mse: 0.4166667, acc: 0.58\n",
            "epoch: 10/500, mse: 0.2950000, acc: 0.70\n",
            "epoch: 20/500, mse: 0.2483333, acc: 0.75\n",
            "epoch: 30/500, mse: 0.2266667, acc: 0.77\n",
            "epoch: 40/500, mse: 0.2166667, acc: 0.78\n",
            "epoch: 50/500, mse: 0.2200000, acc: 0.78\n",
            "epoch: 60/500, mse: 0.2066667, acc: 0.79\n",
            "epoch: 70/500, mse: 0.1966667, acc: 0.80\n",
            "epoch: 80/500, mse: 0.1950000, acc: 0.81\n",
            "epoch: 90/500, mse: 0.1850000, acc: 0.81\n",
            "epoch: 100/500, mse: 0.1816667, acc: 0.82\n",
            "epoch: 110/500, mse: 0.1766667, acc: 0.82\n",
            "epoch: 120/500, mse: 0.1733333, acc: 0.83\n",
            "epoch: 130/500, mse: 0.1666667, acc: 0.83\n",
            "epoch: 140/500, mse: 0.1583333, acc: 0.84\n",
            "epoch: 150/500, mse: 0.1450000, acc: 0.85\n",
            "epoch: 160/500, mse: 0.1383333, acc: 0.86\n",
            "epoch: 170/500, mse: 0.1350000, acc: 0.86\n",
            "epoch: 180/500, mse: 0.1316667, acc: 0.87\n",
            "epoch: 190/500, mse: 0.1216667, acc: 0.88\n",
            "epoch: 200/500, mse: 0.1183333, acc: 0.88\n",
            "epoch: 210/500, mse: 0.1116667, acc: 0.89\n",
            "epoch: 220/500, mse: 0.1050000, acc: 0.90\n",
            "epoch: 230/500, mse: 0.1033333, acc: 0.90\n",
            "epoch: 240/500, mse: 0.1016667, acc: 0.90\n",
            "epoch: 250/500, mse: 0.0966667, acc: 0.90\n",
            "epoch: 260/500, mse: 0.0933333, acc: 0.91\n",
            "epoch: 270/500, mse: 0.0883333, acc: 0.91\n",
            "epoch: 280/500, mse: 0.0883333, acc: 0.91\n",
            "epoch: 290/500, mse: 0.0866667, acc: 0.91\n",
            "epoch: 300/500, mse: 0.0816667, acc: 0.92\n",
            "epoch: 310/500, mse: 0.0800000, acc: 0.92\n",
            "epoch: 320/500, mse: 0.0816667, acc: 0.92\n",
            "epoch: 330/500, mse: 0.0766667, acc: 0.92\n",
            "epoch: 340/500, mse: 0.0750000, acc: 0.93\n",
            "epoch: 350/500, mse: 0.0766667, acc: 0.92\n",
            "epoch: 360/500, mse: 0.0750000, acc: 0.93\n",
            "epoch: 370/500, mse: 0.0766667, acc: 0.92\n",
            "epoch: 380/500, mse: 0.0750000, acc: 0.93\n",
            "epoch: 390/500, mse: 0.0666667, acc: 0.93\n",
            "epoch: 400/500, mse: 0.0650000, acc: 0.94\n",
            "epoch: 410/500, mse: 0.0650000, acc: 0.94\n",
            "epoch: 420/500, mse: 0.0600000, acc: 0.94\n",
            "epoch: 430/500, mse: 0.0566667, acc: 0.94\n",
            "epoch: 440/500, mse: 0.0533333, acc: 0.95\n",
            "epoch: 450/500, mse: 0.0500000, acc: 0.95\n",
            "epoch: 460/500, mse: 0.0466667, acc: 0.95\n",
            "epoch: 470/500, mse: 0.0466667, acc: 0.95\n",
            "epoch: 480/500, mse: 0.0466667, acc: 0.95\n",
            "epoch: 490/500, mse: 0.0450000, acc: 0.95\n"
          ],
          "name": "stdout"
        }
      ]
    },
    {
      "cell_type": "code",
      "metadata": {
        "id": "Aj8EY_OR5_ce",
        "colab_type": "code",
        "outputId": "2bb3cf0f-eade-42da-988b-eeb2161587c3",
        "colab": {
          "base_uri": "https://localhost:8080/",
          "height": 350
        }
      },
      "source": [
        "show_n_graph([hist7, hist8, hist9], ['Full-SGD', 'SGD', 'Minibatch-GD'])"
      ],
      "execution_count": 45,
      "outputs": [
        {
          "output_type": "display_data",
          "data": {
            "image/png": "[encoded data removed]",
            "text/plain": [
              "<Figure size 648x360 with 1 Axes>"
            ]
          },
          "metadata": {
            "tags": []
          }
        }
      ]
    }
  ]
}